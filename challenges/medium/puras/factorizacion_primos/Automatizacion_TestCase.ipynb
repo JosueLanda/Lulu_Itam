{
 "cells": [
  {
   "cell_type": "markdown",
   "id": "74614fbf-4cc9-4c71-bd44-04f1e31b21a4",
   "metadata": {},
   "source": [
    "# Automatizacion"
   ]
  },
  {
   "cell_type": "markdown",
   "id": "58e844a9-8cf9-4110-87cd-282dbd0a1464",
   "metadata": {},
   "source": [
    "# Compilacion"
   ]
  },
  {
   "cell_type": "code",
   "execution_count": 1,
   "id": "b4fdd533-4cb6-4e55-b265-450ab3c6e5bc",
   "metadata": {},
   "outputs": [
    {
     "name": "stdout",
     "output_type": "stream",
     "text": [
      "/home/jovyan\n"
     ]
    }
   ],
   "source": [
    "cd"
   ]
  },
  {
   "cell_type": "code",
   "execution_count": 2,
   "id": "8bb8541c-0904-4480-bfa0-4945eff7f531",
   "metadata": {},
   "outputs": [
    {
     "data": {
      "text/plain": [
       "CompletedProcess(args=['gcc', 'work/medium/puras/factorizacion_primos/factorizacion_primos.c', '-lm', '-o', 'executable'], returncode=0)"
      ]
     },
     "execution_count": 2,
     "metadata": {},
     "output_type": "execute_result"
    }
   ],
   "source": [
    "import subprocess\n",
    "from subprocess import Popen, PIPE\n",
    "\n",
    "subprocess.run([\"gcc\", \"work/medium/puras/factorizacion_primos/factorizacion_primos.c\", \"-lm\",\"-o\", \"executable\"])"
   ]
  },
  {
   "cell_type": "markdown",
   "id": "e8f3c1f1-64ca-4786-9779-0d32aedfcdd7",
   "metadata": {},
   "source": [
    "# Generacion Teste Case"
   ]
  },
  {
   "cell_type": "code",
   "execution_count": 3,
   "id": "6bed58cf-d111-4bb2-a688-c5030d325d61",
   "metadata": {},
   "outputs": [],
   "source": [
    "for i in range(56,76):\n",
    "\n",
    "    if i < 10 :\n",
    "        i_name = '0'+str(i) \n",
    "    else:\n",
    "        i_name = str(i) \n",
    "        \n",
    "    with open(f\"work/medium/puras/factorizacion_primos/test_case/input/input{i_name}.txt\", \"w\") as f:\n",
    "        f.write(str(i))\n",
    "        \n",
    "    exe = (\"./executable\")\n",
    "    with Popen(exe, shell=True, stdin=PIPE,stdout=PIPE) as proc:\n",
    "        output, _ = proc.communicate(bytes(f'{i}\\n',encoding='utf-8'))\n",
    "    \n",
    "    with open(f\"work/medium/puras/factorizacion_primos/test_case/output/output{i_name}.txt\", \"w\") as f:\n",
    "        f.write(str(output).replace(\"\\'\",\"\").replace(\"b\",\"\"))\n",
    "    "
   ]
  }
 ],
 "metadata": {
  "kernelspec": {
   "display_name": "Python 3 (ipykernel)",
   "language": "python",
   "name": "python3"
  },
  "language_info": {
   "codemirror_mode": {
    "name": "ipython",
    "version": 3
   },
   "file_extension": ".py",
   "mimetype": "text/x-python",
   "name": "python",
   "nbconvert_exporter": "python",
   "pygments_lexer": "ipython3",
   "version": "3.11.5"
  }
 },
 "nbformat": 4,
 "nbformat_minor": 5
}
