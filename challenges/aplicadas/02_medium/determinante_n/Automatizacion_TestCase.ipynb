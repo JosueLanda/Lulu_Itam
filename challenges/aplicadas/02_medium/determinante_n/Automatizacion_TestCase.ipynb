{
 "cells": [
  {
   "cell_type": "markdown",
   "id": "74614fbf-4cc9-4c71-bd44-04f1e31b21a4",
   "metadata": {},
   "source": [
    "# Automatización"
   ]
  },
  {
   "cell_type": "markdown",
   "id": "5afea018-d5d1-467f-8c0e-6f66c2a40655",
   "metadata": {},
   "source": [
    "# Compilación"
   ]
  },
  {
   "cell_type": "code",
   "execution_count": 10,
   "id": "665a3f58-640d-4959-9206-9972c6767958",
   "metadata": {},
   "outputs": [
    {
     "name": "stdout",
     "output_type": "stream",
     "text": [
      "Compilación exitosa\n"
     ]
    }
   ],
   "source": [
    "import subprocess\n",
    "from subprocess import Popen, PIPE\n",
    "import random\n",
    "\n",
    "resultado = subprocess.run([\"g++\", \"./det.cpp\", \"-o\", \"executable\"], capture_output=True, text=True)\n",
    "\n",
    "if resultado.returncode == 0:\n",
    "    print(\"Compilación exitosa\")\n",
    "else:\n",
    "    print(\"Error de compilación:\")\n",
    "    print(resultado.stderr)    "
   ]
  },
  {
   "cell_type": "code",
   "execution_count": 11,
   "id": "8d1e4f7a",
   "metadata": {},
   "outputs": [
    {
     "name": "stdout",
     "output_type": "stream",
     "text": [
      "19740\n",
      "-16817 16134 2632\n",
      "-28897 17315 968\n",
      "7866 7995 10541\n",
      "47265\n",
      "\n",
      "18674\n",
      "9609 25744 -8310\n",
      "30687 -18711 1086\n",
      "13823 13591 4651\n",
      "96393\n",
      "\n",
      "3923\n",
      "-18240 -23120 -9668\n",
      "6006 -26917 -4168\n",
      "-11348 -28319 -9639\n",
      "0\n",
      "\n",
      "2956\n",
      "-7883 -19650 31666\n",
      "31264 -4423 13376\n",
      "28138 22846 -21231\n",
      "397281\n",
      "\n",
      "19251\n",
      "-17010 -26419 22597\n",
      "9295 -28297 7796\n",
      "-26633 26111 -30261\n",
      "-30023\n",
      "\n"
     ]
    }
   ],
   "source": [
    "\n",
    "for _ in range(5):\n",
    "    # Crear el objeto Popen para ejecutar el ejecutable\n",
    "    proceso = subprocess.Popen(\"./executable\", stdin=subprocess.PIPE, stdout=subprocess.PIPE, stderr=subprocess.PIPE, text=True)\n",
    "\n",
    "    max_n = 2**15\n",
    "    # Pasar las dos entradas al proceso\n",
    "    # Generar un número aleatorio entre 5 y 2^20\n",
    "    n = random.randint(5, max_n)\n",
    "    mat = '\\n'.join([' '.join([str(random.randint(-max_n, max_n)) for i in range(3)]) for j in range(3)])\n",
    "    \n",
    "    entrada_total = str(n)+'\\n'+mat\n",
    "    salida, errores = proceso.communicate(input=entrada_total)\n",
    "\n",
    "    # Imprimir la salida del ejecutable\n",
    "    print(entrada_total)\n",
    "    print(salida)\n",
    "\n",
    "    # Verificar si hubo errores durante la ejecución\n",
    "    if proceso.returncode != 0:\n",
    "        print(\"Error durante la ejecución:\")\n",
    "        print(errores)\n"
   ]
  },
  {
   "cell_type": "markdown",
   "id": "b8fadcb5",
   "metadata": {},
   "source": [
    "Generador de .txt para subir al hacker rank"
   ]
  },
  {
   "cell_type": "code",
   "execution_count": 13,
   "id": "f4da0011",
   "metadata": {},
   "outputs": [],
   "source": [
    "# Número de ejecuciones deseadas\n",
    "for i in range(100):\n",
    "\n",
    "    max_n = 2**15\n",
    "    # Pasar las dos entradas al proceso\n",
    "    # Generar un número aleatorio entre 5 y 2^20\n",
    "    n = random.randint(5, max_n)\n",
    "    mat = '\\n'.join([' '.join([str(random.randint(-max_n, max_n)) for i in range(3)]) for j in range(3)])\n",
    "    \n",
    "    entrada_total = str(n)+'\\n'+mat\n",
    "\n",
    "    test_case = '0' if i<10 else ''\n",
    "    test_case += str(i)\n",
    "    # Escribir la entrada en un archivo\n",
    "    with open(f\"./test_cases/input/input{test_case}.txt\", \"w\") as f_input:\n",
    "        f_input.write(entrada_total)\n",
    "\n",
    "    # Ejecutar el proceso y obtener la salida\n",
    "    proceso = subprocess.Popen([\"./executable\"], stdin=subprocess.PIPE, stdout=subprocess.PIPE, stderr=subprocess.PIPE, text=True)\n",
    "    salida, errores = proceso.communicate(input=entrada_total)\n",
    "\n",
    "    # Escribir la salida en un archivo\n",
    "    with open(f\"./test_cases/output/output{test_case}.txt\", \"w\") as f_output:\n",
    "        f_output.write(salida)\n",
    "\n",
    "\n",
    "    # Verificar si hubo errores durante la ejecución\n",
    "    if proceso.returncode != 0:\n",
    "        print(\"Error durante la ejecución:\")\n",
    "        print(errores)\n"
   ]
  },
  {
   "cell_type": "code",
   "execution_count": null,
   "id": "b02165d2",
   "metadata": {},
   "outputs": [],
   "source": []
  }
 ],
 "metadata": {
  "kernelspec": {
   "display_name": "Python 3 (ipykernel)",
   "language": "python",
   "name": "python3"
  },
  "language_info": {
   "codemirror_mode": {
    "name": "ipython",
    "version": 3
   },
   "file_extension": ".py",
   "mimetype": "text/x-python",
   "name": "python",
   "nbconvert_exporter": "python",
   "pygments_lexer": "ipython3",
   "version": "3.11.7"
  }
 },
 "nbformat": 4,
 "nbformat_minor": 5
}
