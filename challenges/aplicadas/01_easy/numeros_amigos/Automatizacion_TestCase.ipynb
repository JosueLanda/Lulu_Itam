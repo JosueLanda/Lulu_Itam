{
 "cells": [
  {
   "cell_type": "markdown",
   "id": "74614fbf-4cc9-4c71-bd44-04f1e31b21a4",
   "metadata": {},
   "source": [
    "# Automatizacion"
   ]
  },
  {
   "cell_type": "markdown",
   "id": "58e844a9-8cf9-4110-87cd-282dbd0a1464",
   "metadata": {},
   "source": [
    "# Compilacion"
   ]
  },
  {
   "cell_type": "code",
   "execution_count": 4,
   "id": "8bb8541c-0904-4480-bfa0-4945eff7f531",
   "metadata": {},
   "outputs": [
    {
     "name": "stdout",
     "output_type": "stream",
     "text": [
      "Compilación exitosa\n"
     ]
    }
   ],
   "source": [
    "import subprocess\n",
    "from subprocess import Popen, PIPE\n",
    "import random\n",
    "\n",
    "resultado = subprocess.run([\"g++\", \"./numeros_amigos.cpp\", \"-o\", \"executable\"], capture_output=True, text=True)\n",
    "\n",
    "if resultado.returncode == 0:\n",
    "    print(\"Compilación exitosa\")\n",
    "    \n",
    "else:\n",
    "    print(\"Error de compilación:\")\n",
    "    print(resultado.stderr)  "
   ]
  },
  {
   "cell_type": "markdown",
   "id": "e8f3c1f1-64ca-4786-9779-0d32aedfcdd7",
   "metadata": {},
   "source": [
    "# Generacion Teste Case"
   ]
  },
  {
   "cell_type": "code",
   "execution_count": 1,
   "id": "32ebaea0",
   "metadata": {},
   "outputs": [],
   "source": [
    "numeros_amigos = [(220,284),\n",
    "(1184,1210),\n",
    "(2620,2924),\n",
    "(5020,5564),\n",
    "(6232,6368),\n",
    "(10744,10856),\n",
    "(12285,14595),\n",
    "(17296,18416),\n",
    "(63020,76084),\n",
    "(66928,66992),\n",
    "(67095,71145),\n",
    "(69615,87633),\n",
    "(79750,88730),\n",
    "(100485,124155),\n",
    "(122265,139815),\n",
    "(122368,123152),\n",
    "(141664,153176),\n",
    "(142310,168730),\n",
    "(171856,176336),\n",
    "(176272,180848),\n",
    "(185368,203432),\n",
    "(196724,202444),\n",
    "(280540,365084)]"
   ]
  },
  {
   "cell_type": "code",
   "execution_count": 6,
   "id": "b2d302f5",
   "metadata": {},
   "outputs": [],
   "source": [
    "# Número de ejecuciones deseadas\n",
    "for i, numeros in enumerate(numeros_amigos):\n",
    "    num1, num2 = numeros\n",
    "\n",
    "    # Escribir los números de entrada en un archivo\n",
    "    with open(f\"./test_case/input/input{i}.txt\", \"w\") as f_input:\n",
    "        f_input.write(f\"{num1} {num2}\")\n",
    "\n",
    "    # Ejecutar el proceso y obtener la salida\n",
    "    proceso = subprocess.Popen([\"./executable\"], stdin=subprocess.PIPE, stdout=subprocess.PIPE, stderr=subprocess.PIPE, text=True)\n",
    "    salida, errores = proceso.communicate(input=f\"{num1} {num2}\")\n",
    "\n",
    "    # Escribir la salida en un archivo\n",
    "    with open(f\"./test_case/output/output{i}.txt\", \"w\") as f_output:\n",
    "        f_output.write(salida)\n"
   ]
  },
  {
   "cell_type": "code",
   "execution_count": 5,
   "id": "bf39cd02",
   "metadata": {},
   "outputs": [],
   "source": [
    "for i in range(len(numeros_amigos), 100):\n",
    "    # Generar dos números aleatorios entre 1 y 10^6\n",
    "    num1 = random.randint(1, 10**6)\n",
    "    num2 = random.randint(1, 10**6)\n",
    "\n",
    "    # Escribir los números de entrada en un archivo\n",
    "    with open(f\"./test_case/input/input{i}.txt\", \"w\") as f_input:\n",
    "        f_input.write(f\"{num1} {num2}\")\n",
    "\n",
    "    # Ejecutar el proceso y obtener la salida\n",
    "    proceso = subprocess.Popen([\"./executable\"], stdin=subprocess.PIPE, stdout=subprocess.PIPE, stderr=subprocess.PIPE, text=True)\n",
    "    salida, errores = proceso.communicate(input=f\"{num1} {num2}\")\n",
    "\n",
    "    # Escribir la salida en un archivo\n",
    "    with open(f\"./test_case/output/output{i}.txt\", \"w\") as f_output:\n",
    "        f_output.write(salida)\n",
    "\n",
    "    # Verificar si hubo errores durante la ejecución\n",
    "    if proceso.returncode != 0:\n",
    "        print(\"Error durante la ejecución:\")\n",
    "        print(errores)\n"
   ]
  }
 ],
 "metadata": {
  "kernelspec": {
   "display_name": "Python 3 (ipykernel)",
   "language": "python",
   "name": "python3"
  },
  "language_info": {
   "codemirror_mode": {
    "name": "ipython",
    "version": 3
   },
   "file_extension": ".py",
   "mimetype": "text/x-python",
   "name": "python",
   "nbconvert_exporter": "python",
   "pygments_lexer": "ipython3",
   "version": "3.11.7"
  }
 },
 "nbformat": 4,
 "nbformat_minor": 5
}
