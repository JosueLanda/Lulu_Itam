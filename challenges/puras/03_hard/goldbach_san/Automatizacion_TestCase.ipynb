{
 "cells": [
  {
   "cell_type": "markdown",
   "id": "74614fbf-4cc9-4c71-bd44-04f1e31b21a4",
   "metadata": {},
   "source": [
    "# Automatización"
   ]
  },
  {
   "cell_type": "markdown",
   "id": "5afea018-d5d1-467f-8c0e-6f66c2a40655",
   "metadata": {},
   "source": [
    "# Compilación"
   ]
  },
  {
   "cell_type": "code",
   "execution_count": 13,
   "id": "665a3f58-640d-4959-9206-9972c6767958",
   "metadata": {},
   "outputs": [
    {
     "name": "stdout",
     "output_type": "stream",
     "text": [
      "Compilación exitosa\n"
     ]
    }
   ],
   "source": [
    "import subprocess\n",
    "from subprocess import Popen, PIPE\n",
    "import random\n",
    "\n",
    "resultado = subprocess.run([\"g++\", \"./goldbach_san.cpp\", \"-o\", \"executable\"], capture_output=True, text=True)\n",
    "\n",
    "if resultado.returncode == 0:\n",
    "    print(\"Compilación exitosa\")\n",
    "else:\n",
    "    print(\"Error de compilación:\")\n",
    "    print(resultado.stderr)    "
   ]
  },
  {
   "cell_type": "code",
   "execution_count": 18,
   "id": "8d1e4f7a",
   "metadata": {},
   "outputs": [
    {
     "name": "stdout",
     "output_type": "stream",
     "text": [
      "232037\n",
      "3 31 232003\n",
      "\n",
      "921405\n",
      "3 23 921379\n",
      "\n",
      "248143\n",
      "3 3 248137\n",
      "\n",
      "511289\n",
      "3 7 511279\n",
      "\n",
      "303359\n",
      "3 19 303337\n",
      "\n"
     ]
    }
   ],
   "source": [
    "\n",
    "for _ in range(5):\n",
    "    # Crear el objeto Popen para ejecutar el ejecutable\n",
    "    proceso = subprocess.Popen(\"./executable\", stdin=subprocess.PIPE, stdout=subprocess.PIPE, stderr=subprocess.PIPE, text=True)\n",
    "\n",
    "    max_n = 1<<20\n",
    "    # Pasar las dos entradas al proceso\n",
    "    # Generar un número aleatorio entre 5 y 1000\n",
    "    n = random.randint(5, max_n)\n",
    "    \n",
    "    entrada_total = str(n)\n",
    "    salida, errores = proceso.communicate(input=entrada_total)\n",
    "\n",
    "    # Imprimir la salida del ejecutable\n",
    "    print(entrada_total)\n",
    "    print(salida)\n",
    "\n",
    "    # Verificar si hubo errores durante la ejecución\n",
    "    if proceso.returncode != 0:\n",
    "        print(\"Error durante la ejecución:\")\n",
    "        print(errores)\n"
   ]
  },
  {
   "cell_type": "markdown",
   "id": "b8fadcb5",
   "metadata": {},
   "source": [
    "Generador de .txt para subir al hacker rank"
   ]
  },
  {
   "cell_type": "code",
   "execution_count": 19,
   "id": "f4da0011",
   "metadata": {},
   "outputs": [
    {
     "ename": "FileNotFoundError",
     "evalue": "[Errno 2] No such file or directory: './test_cases/input/input00.txt'",
     "output_type": "error",
     "traceback": [
      "\u001b[0;31m---------------------------------------------------------------------------\u001b[0m",
      "\u001b[0;31mFileNotFoundError\u001b[0m                         Traceback (most recent call last)",
      "Cell \u001b[0;32mIn[19], line 14\u001b[0m\n\u001b[1;32m     12\u001b[0m test_case \u001b[38;5;241m+\u001b[39m\u001b[38;5;241m=\u001b[39m \u001b[38;5;28mstr\u001b[39m(i)\n\u001b[1;32m     13\u001b[0m \u001b[38;5;66;03m# Escribir la entrada en un archivo\u001b[39;00m\n\u001b[0;32m---> 14\u001b[0m \u001b[38;5;28;01mwith\u001b[39;00m \u001b[38;5;28;43mopen\u001b[39;49m\u001b[43m(\u001b[49m\u001b[38;5;124;43mf\u001b[39;49m\u001b[38;5;124;43m\"\u001b[39;49m\u001b[38;5;124;43m./test_cases/input/input\u001b[39;49m\u001b[38;5;132;43;01m{\u001b[39;49;00m\u001b[43mtest_case\u001b[49m\u001b[38;5;132;43;01m}\u001b[39;49;00m\u001b[38;5;124;43m.txt\u001b[39;49m\u001b[38;5;124;43m\"\u001b[39;49m\u001b[43m,\u001b[49m\u001b[43m \u001b[49m\u001b[38;5;124;43m\"\u001b[39;49m\u001b[38;5;124;43mw\u001b[39;49m\u001b[38;5;124;43m\"\u001b[39;49m\u001b[43m)\u001b[49m \u001b[38;5;28;01mas\u001b[39;00m f_input:\n\u001b[1;32m     15\u001b[0m     f_input\u001b[38;5;241m.\u001b[39mwrite(entrada_total)\n\u001b[1;32m     17\u001b[0m \u001b[38;5;66;03m# Ejecutar el proceso y obtener la salida\u001b[39;00m\n",
      "File \u001b[0;32m/usr/lib/python3.11/site-packages/IPython/core/interactiveshell.py:310\u001b[0m, in \u001b[0;36m_modified_open\u001b[0;34m(file, *args, **kwargs)\u001b[0m\n\u001b[1;32m    303\u001b[0m \u001b[38;5;28;01mif\u001b[39;00m file \u001b[38;5;129;01min\u001b[39;00m {\u001b[38;5;241m0\u001b[39m, \u001b[38;5;241m1\u001b[39m, \u001b[38;5;241m2\u001b[39m}:\n\u001b[1;32m    304\u001b[0m     \u001b[38;5;28;01mraise\u001b[39;00m \u001b[38;5;167;01mValueError\u001b[39;00m(\n\u001b[1;32m    305\u001b[0m         \u001b[38;5;124mf\u001b[39m\u001b[38;5;124m\"\u001b[39m\u001b[38;5;124mIPython won\u001b[39m\u001b[38;5;124m'\u001b[39m\u001b[38;5;124mt let you open fd=\u001b[39m\u001b[38;5;132;01m{\u001b[39;00mfile\u001b[38;5;132;01m}\u001b[39;00m\u001b[38;5;124m by default \u001b[39m\u001b[38;5;124m\"\u001b[39m\n\u001b[1;32m    306\u001b[0m         \u001b[38;5;124m\"\u001b[39m\u001b[38;5;124mas it is likely to crash IPython. If you know what you are doing, \u001b[39m\u001b[38;5;124m\"\u001b[39m\n\u001b[1;32m    307\u001b[0m         \u001b[38;5;124m\"\u001b[39m\u001b[38;5;124myou can use builtins\u001b[39m\u001b[38;5;124m'\u001b[39m\u001b[38;5;124m open.\u001b[39m\u001b[38;5;124m\"\u001b[39m\n\u001b[1;32m    308\u001b[0m     )\n\u001b[0;32m--> 310\u001b[0m \u001b[38;5;28;01mreturn\u001b[39;00m \u001b[43mio_open\u001b[49m\u001b[43m(\u001b[49m\u001b[43mfile\u001b[49m\u001b[43m,\u001b[49m\u001b[43m \u001b[49m\u001b[38;5;241;43m*\u001b[39;49m\u001b[43margs\u001b[49m\u001b[43m,\u001b[49m\u001b[43m \u001b[49m\u001b[38;5;241;43m*\u001b[39;49m\u001b[38;5;241;43m*\u001b[39;49m\u001b[43mkwargs\u001b[49m\u001b[43m)\u001b[49m\n",
      "\u001b[0;31mFileNotFoundError\u001b[0m: [Errno 2] No such file or directory: './test_cases/input/input00.txt'"
     ]
    }
   ],
   "source": [
    "# Número de ejecuciones deseadas\n",
    "for i in range(100):\n",
    "\n",
    "    max_n = 1<<19\n",
    "    # Pasar las dos entradas al proceso\n",
    "    # Generar un número aleatorio entre 5 y 1000\n",
    "    n = random.randint(3, max_n)\n",
    "    \n",
    "    entrada_total = str(n)\n",
    "\n",
    "    test_case = '0' if i<10 else ''\n",
    "    test_case += str(i)\n",
    "    # Escribir la entrada en un archivo\n",
    "    with open(f\"./test_cases/input/input{test_case}.txt\", \"w\") as f_input:\n",
    "        f_input.write(entrada_total)\n",
    "\n",
    "    # Ejecutar el proceso y obtener la salida\n",
    "    proceso = subprocess.Popen([\"./executable\"], stdin=subprocess.PIPE, stdout=subprocess.PIPE, stderr=subprocess.PIPE, text=True)\n",
    "    salida, errores = proceso.communicate(input=entrada_total)\n",
    "\n",
    "    # Escribir la salida en un archivo\n",
    "    with open(f\"./test_cases/output/output{test_case}.txt\", \"w\") as f_output:\n",
    "        f_output.write(salida)\n",
    "\n",
    "\n",
    "    # Verificar si hubo errores durante la ejecución\n",
    "    if proceso.returncode != 0:\n",
    "        print(\"Error durante la ejecución:\")\n",
    "        print(errores)\n"
   ]
  },
  {
   "cell_type": "code",
   "execution_count": null,
   "id": "00a3fd11",
   "metadata": {},
   "outputs": [],
   "source": []
  }
 ],
 "metadata": {
  "kernelspec": {
   "display_name": "Python 3 (ipykernel)",
   "language": "python",
   "name": "python3"
  },
  "language_info": {
   "codemirror_mode": {
    "name": "ipython",
    "version": 3
   },
   "file_extension": ".py",
   "mimetype": "text/x-python",
   "name": "python",
   "nbconvert_exporter": "python",
   "pygments_lexer": "ipython3",
   "version": "3.11.7"
  }
 },
 "nbformat": 4,
 "nbformat_minor": 5
}
