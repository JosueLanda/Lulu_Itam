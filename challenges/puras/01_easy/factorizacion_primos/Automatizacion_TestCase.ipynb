{
 "cells": [
  {
   "cell_type": "markdown",
   "id": "74614fbf-4cc9-4c71-bd44-04f1e31b21a4",
   "metadata": {},
   "source": [
    "# Automatizacion"
   ]
  },
  {
   "cell_type": "markdown",
   "id": "58e844a9-8cf9-4110-87cd-282dbd0a1464",
   "metadata": {},
   "source": [
    "# Compilacion"
   ]
  },
  {
   "cell_type": "code",
   "execution_count": 2,
   "id": "8bb8541c-0904-4480-bfa0-4945eff7f531",
   "metadata": {},
   "outputs": [
    {
     "name": "stdout",
     "output_type": "stream",
     "text": [
      "Compilación exitosa\n"
     ]
    }
   ],
   "source": [
    "import subprocess\n",
    "from subprocess import Popen, PIPE\n",
    "import random\n",
    "\n",
    "resultado = subprocess.run([\"g++\", \"./factorizacion_primos.cpp\", \"-o\", \"executable\"], capture_output=True, text=True)\n",
    "\n",
    "if resultado.returncode == 0:\n",
    "    print(\"Compilación exitosa\")\n",
    "else:\n",
    "    print(\"Error de compilación:\")\n",
    "    print(resultado.stderr)  "
   ]
  },
  {
   "cell_type": "markdown",
   "id": "e8f3c1f1-64ca-4786-9779-0d32aedfcdd7",
   "metadata": {},
   "source": [
    "# Generacion Teste Case"
   ]
  },
  {
   "cell_type": "code",
   "execution_count": 6,
   "id": "b2d302f5",
   "metadata": {},
   "outputs": [],
   "source": [
    "# Número de ejecuciones deseadas\n",
    "for i in range(100):\n",
    "    # Generar un número aleatorio entre 1 y 100\n",
    "    numero_aleatorio = random.randint(2, 10**6)\n",
    "\n",
    "    \n",
    "    test_case = '0' if i<10 else ''\n",
    "    test_case += str(i)\n",
    "    \n",
    "    # Escribir la entrada en un archivo\n",
    "    with open(f\"./test_case/input/input{test_case}.txt\", \"w\") as f_input:\n",
    "        f_input.write(str(numero_aleatorio))\n",
    "\n",
    "    # Ejecutar el proceso y obtener la salida\n",
    "    proceso = subprocess.Popen([\"./executable\"], stdin=subprocess.PIPE, stdout=subprocess.PIPE, stderr=subprocess.PIPE, text=True)\n",
    "    salida, errores = proceso.communicate(input=str(numero_aleatorio))\n",
    "    # Escribir la salida en un archivo\n",
    "    with open(f\"./test_case/output/output{test_case}.txt\", \"w\") as f_output:\n",
    "        f_output.write(salida)\n",
    "\n",
    "\n",
    "    # Verificar si hubo errores durante la ejecución\n",
    "    if proceso.returncode != 0:\n",
    "        print(\"Error durante la ejecución:\")\n",
    "        print(errores)"
   ]
  }
 ],
 "metadata": {
  "kernelspec": {
   "display_name": "Python 3 (ipykernel)",
   "language": "python",
   "name": "python3"
  },
  "language_info": {
   "codemirror_mode": {
    "name": "ipython",
    "version": 3
   },
   "file_extension": ".py",
   "mimetype": "text/x-python",
   "name": "python",
   "nbconvert_exporter": "python",
   "pygments_lexer": "ipython3",
   "version": "3.11.7"
  }
 },
 "nbformat": 4,
 "nbformat_minor": 5
}
