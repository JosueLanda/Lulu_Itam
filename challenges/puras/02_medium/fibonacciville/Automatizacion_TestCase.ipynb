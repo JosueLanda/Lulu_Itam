{
 "cells": [
  {
   "cell_type": "markdown",
   "id": "74614fbf-4cc9-4c71-bd44-04f1e31b21a4",
   "metadata": {},
   "source": [
    "# Automatización"
   ]
  },
  {
   "cell_type": "markdown",
   "id": "5afea018-d5d1-467f-8c0e-6f66c2a40655",
   "metadata": {},
   "source": [
    "# Compilación"
   ]
  },
  {
   "cell_type": "code",
   "execution_count": 1,
   "id": "665a3f58-640d-4959-9206-9972c6767958",
   "metadata": {},
   "outputs": [
    {
     "name": "stdout",
     "output_type": "stream",
     "text": [
      "Compilación exitosa\n"
     ]
    }
   ],
   "source": [
    "import subprocess\n",
    "from subprocess import Popen, PIPE\n",
    "import random\n",
    "\n",
    "resultado = subprocess.run([\"g++\", \"./fibonacci.cpp\", \"-o\", \"executable\"], capture_output=True, text=True)\n",
    "\n",
    "if resultado.returncode == 0:\n",
    "    print(\"Compilación exitosa\")\n",
    "else:\n",
    "    print(\"Error de compilación:\")\n",
    "    print(resultado.stderr)    "
   ]
  },
  {
   "cell_type": "code",
   "execution_count": 6,
   "id": "8d1e4f7a",
   "metadata": {},
   "outputs": [
    {
     "name": "stdout",
     "output_type": "stream",
     "text": [
      "820\n",
      "3921\n",
      "\n",
      "593\n",
      "2835\n",
      "\n",
      "172\n",
      "820\n",
      "\n",
      "764\n",
      "3653\n",
      "\n",
      "801\n",
      "3830\n",
      "\n"
     ]
    }
   ],
   "source": [
    "\n",
    "for _ in range(5):\n",
    "    # Crear el objeto Popen para ejecutar el ejecutable\n",
    "    proceso = subprocess.Popen(\"./executable\", stdin=subprocess.PIPE, stdout=subprocess.PIPE, stderr=subprocess.PIPE, text=True)\n",
    "\n",
    "    max_n = 1001\n",
    "    # Pasar las dos entradas al proceso\n",
    "    # Generar un número aleatorio entre 5 y 1000\n",
    "    n = random.randint(5, max_n)\n",
    "    \n",
    "    entrada_total = str(n)\n",
    "    salida, errores = proceso.communicate(input=entrada_total)\n",
    "\n",
    "    # Imprimir la salida del ejecutable\n",
    "    print(entrada_total)\n",
    "    print(salida)\n",
    "\n",
    "    # Verificar si hubo errores durante la ejecución\n",
    "    if proceso.returncode != 0:\n",
    "        print(\"Error durante la ejecución:\")\n",
    "        print(errores)\n"
   ]
  },
  {
   "cell_type": "markdown",
   "id": "b8fadcb5",
   "metadata": {},
   "source": [
    "Generador de .txt para subir al hacker rank"
   ]
  },
  {
   "cell_type": "code",
   "execution_count": 8,
   "id": "f4da0011",
   "metadata": {},
   "outputs": [],
   "source": [
    "# Número de ejecuciones deseadas\n",
    "for i in range(100):\n",
    "\n",
    "    max_n = 1001\n",
    "    # Pasar las dos entradas al proceso\n",
    "    # Generar un número aleatorio entre 5 y 1000\n",
    "    n = random.randint(5, max_n)\n",
    "    \n",
    "    entrada_total = str(n)\n",
    "\n",
    "    test_case = '0' if i<10 else ''\n",
    "    test_case += str(i)\n",
    "    # Escribir la entrada en un archivo\n",
    "    with open(f\"./test_cases/input/input{test_case}.txt\", \"w\") as f_input:\n",
    "        f_input.write(entrada_total)\n",
    "\n",
    "    # Ejecutar el proceso y obtener la salida\n",
    "    proceso = subprocess.Popen([\"./executable\"], stdin=subprocess.PIPE, stdout=subprocess.PIPE, stderr=subprocess.PIPE, text=True)\n",
    "    salida, errores = proceso.communicate(input=entrada_total)\n",
    "\n",
    "    # Escribir la salida en un archivo\n",
    "    with open(f\"./test_cases/output/output{test_case}.txt\", \"w\") as f_output:\n",
    "        f_output.write(salida)\n",
    "\n",
    "\n",
    "    # Verificar si hubo errores durante la ejecución\n",
    "    if proceso.returncode != 0:\n",
    "        print(\"Error durante la ejecución:\")\n",
    "        print(errores)\n"
   ]
  }
 ],
 "metadata": {
  "kernelspec": {
   "display_name": "Python 3 (ipykernel)",
   "language": "python",
   "name": "python3"
  },
  "language_info": {
   "codemirror_mode": {
    "name": "ipython",
    "version": 3
   },
   "file_extension": ".py",
   "mimetype": "text/x-python",
   "name": "python",
   "nbconvert_exporter": "python",
   "pygments_lexer": "ipython3",
   "version": "3.11.7"
  }
 },
 "nbformat": 4,
 "nbformat_minor": 5
}
