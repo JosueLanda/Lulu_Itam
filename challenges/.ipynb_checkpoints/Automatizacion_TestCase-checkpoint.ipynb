{
 "cells": [
  {
   "cell_type": "markdown",
   "id": "74614fbf-4cc9-4c71-bd44-04f1e31b21a4",
   "metadata": {},
   "source": [
    "# Generacion automatica de test case"
   ]
  },
  {
   "cell_type": "code",
   "execution_count": 16,
   "id": "8bb8541c-0904-4480-bfa0-4945eff7f531",
   "metadata": {},
   "outputs": [
    {
     "data": {
      "text/plain": [
       "CompletedProcess(args=['gcc', 'work/medium/codes/puras/factorizacion_primos.c', '-lm', '-o', 'executable'], returncode=0)"
      ]
     },
     "execution_count": 16,
     "metadata": {},
     "output_type": "execute_result"
    }
   ],
   "source": [
    "import subprocess\n",
    "from subprocess import Popen, PIPE\n",
    "\n",
    "subprocess.run([\"gcc\", \"work/medium/codes/puras/factorizacion_primos.c\", \"-lm\",\"-o\", \"executable\"])"
   ]
  },
  {
   "cell_type": "code",
   "execution_count": 68,
   "id": "eb9f6802-887e-4e4e-b365-a7bc19179a78",
   "metadata": {},
   "outputs": [],
   "source": [
    "exe = (\"./executable\")\n",
    "with Popen(exe, shell=True, stdin=PIPE,stdout=PIPE) as proc:\n",
    "    output, _=proc.communicate(b'56\\n')"
   ]
  },
  {
   "cell_type": "code",
   "execution_count": 69,
   "id": "8bd915fb-0501-4b6e-8adc-2cb4ad075d9f",
   "metadata": {},
   "outputs": [],
   "source": [
    "with open(\"work/medium/test_case/factorizacion_primos/output.txt\", \"w\") as f:\n",
    "    f.write(str(output).replace(\"\\'\",\"\").replace(\"b\",\"\"))"
   ]
  }
 ],
 "metadata": {
  "kernelspec": {
   "display_name": "Python 3 (ipykernel)",
   "language": "python",
   "name": "python3"
  },
  "language_info": {
   "codemirror_mode": {
    "name": "ipython",
    "version": 3
   },
   "file_extension": ".py",
   "mimetype": "text/x-python",
   "name": "python",
   "nbconvert_exporter": "python",
   "pygments_lexer": "ipython3",
   "version": "3.11.5"
  }
 },
 "nbformat": 4,
 "nbformat_minor": 5
}
