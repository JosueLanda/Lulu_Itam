{
 "cells": [
  {
   "cell_type": "markdown",
   "id": "74614fbf-4cc9-4c71-bd44-04f1e31b21a4",
   "metadata": {},
   "source": [
    "# Automatizacion"
   ]
  },
  {
   "cell_type": "markdown",
   "id": "5afea018-d5d1-467f-8c0e-6f66c2a40655",
   "metadata": {},
   "source": [
    "# Compilacion"
   ]
  },
  {
   "cell_type": "code",
   "execution_count": 32,
   "id": "665a3f58-640d-4959-9206-9972c6767958",
   "metadata": {},
   "outputs": [
    {
     "name": "stdout",
     "output_type": "stream",
     "text": [
      "Compilación exitosa\n"
     ]
    }
   ],
   "source": [
    "import subprocess\n",
    "from subprocess import Popen, PIPE\n",
    "import random\n",
    "\n",
    "resultado = subprocess.run([\"g++\", \"./badsequence.cpp\", \"-o\", \"executable\"], capture_output=True, text=True)\n",
    "\n",
    "if resultado.returncode == 0:\n",
    "    print(\"Compilación exitosa\")\n",
    "else:\n",
    "    print(\"Error de compilación:\")\n",
    "    print(resultado.stderr)    "
   ]
  },
  {
   "cell_type": "code",
   "execution_count": 27,
   "id": "8d1e4f7a",
   "metadata": {},
   "outputs": [
    {
     "name": "stdout",
     "output_type": "stream",
     "text": [
      "2\n",
      "()\n",
      "SI\n",
      "2\n",
      ")(\n",
      "SI\n",
      "1\n",
      ")\n",
      "NO\n",
      "2\n",
      ")(\n",
      "SI\n",
      "1\n",
      "(\n",
      "NO\n"
     ]
    }
   ],
   "source": [
    "# Número de ejecuciones deseadas\n",
    "\n",
    "# Iterar sobre el número de ejecuciones\n",
    "for _ in range(5):\n",
    "    # Crear el objeto Popen para ejecutar el ejecutable\n",
    "    proceso = subprocess.Popen(\"./executable\", stdin=subprocess.PIPE, stdout=subprocess.PIPE, stderr=subprocess.PIPE, text=True)\n",
    "\n",
    "    # Pasar las dos entradas al proceso\n",
    "    # Generar un número aleatorio entre 1 y 100\n",
    "    numero_aleatorio = random.randint(1, 100)\n",
    "\n",
    "\n",
    "    # Generar la cadena aleatoria con los dos caracteres\n",
    "    cadena_aleatoria = ''.join([\"(\" if random.random() < 0.5 else \")\" for _ in range(numero_aleatorio)])\n",
    "\n",
    "    entrada_1 = numero_aleatorio\n",
    "    entrada_2 = cadena_aleatoria\n",
    "    entrada_total = str(entrada_1) + entrada_2\n",
    "    salida, errores = proceso.communicate(input=entrada_total)\n",
    "\n",
    "    # Imprimir la salida del ejecutable\n",
    "    print(entrada_1)\n",
    "    print(entrada_2)\n",
    "    print(salida)\n",
    "\n",
    "    # Verificar si hubo errores durante la ejecución\n",
    "    if proceso.returncode != 0:\n",
    "        print(\"Error durante la ejecución:\")\n",
    "        print(errores)\n"
   ]
  },
  {
   "cell_type": "markdown",
   "id": "b8fadcb5",
   "metadata": {},
   "source": [
    "Generador de .txt para subir al hacker rank"
   ]
  },
  {
   "cell_type": "code",
   "execution_count": 4,
   "id": "f4da0011",
   "metadata": {},
   "outputs": [
    {
     "name": "stdout",
     "output_type": "stream",
     "text": [
      "Entrada 1 guardada en input1.txt\n",
      "Salida 1 guardada en output1.txt\n",
      "Entrada 2 guardada en input2.txt\n",
      "Salida 2 guardada en output2.txt\n",
      "Entrada 3 guardada en input3.txt\n",
      "Salida 3 guardada en output3.txt\n",
      "Entrada 4 guardada en input4.txt\n",
      "Salida 4 guardada en output4.txt\n",
      "Entrada 5 guardada en input5.txt\n",
      "Salida 5 guardada en output5.txt\n"
     ]
    }
   ],
   "source": [
    "\n",
    "# Número de ejecuciones deseadas\n",
    "for i in range(5):\n",
    "    # Generar un número aleatorio entre 1 y 100\n",
    "    numero_aleatorio = random.randint(1, 2)\n",
    "\n",
    "    # Generar la cadena aleatoria con los dos caracteres\n",
    "    cadena_aleatoria = ''.join([\"(\" if random.random() < 0.5 else \")\" for _ in range(numero_aleatorio)])\n",
    "\n",
    "    # Crear la entrada total como una cadena formateada\n",
    "    entrada_total = f\"{numero_aleatorio}\\n{cadena_aleatoria}\"\n",
    "\n",
    "    # Escribir la entrada en un archivo\n",
    "    with open(f\"input{i + 1}.txt\", \"w\") as f_input:\n",
    "        f_input.write(entrada_total)\n",
    "\n",
    "    # Ejecutar el proceso y obtener la salida\n",
    "    proceso = subprocess.Popen([\"./executable\"], stdin=subprocess.PIPE, stdout=subprocess.PIPE, stderr=subprocess.PIPE, text=True)\n",
    "    salida, errores = proceso.communicate(input=entrada_total)\n",
    "\n",
    "    # Escribir la salida en un archivo\n",
    "    with open(f\"output{i + 1}.txt\", \"w\") as f_output:\n",
    "        f_output.write(salida)\n",
    "\n",
    "\n",
    "    # Verificar si hubo errores durante la ejecución\n",
    "    if proceso.returncode != 0:\n",
    "        print(\"Error durante la ejecución:\")\n",
    "        print(errores)\n"
   ]
  },
  {
   "cell_type": "markdown",
   "id": "6b9d8ec1",
   "metadata": {},
   "source": [
    "## Generador nivelado"
   ]
  },
  {
   "cell_type": "code",
   "execution_count": 27,
   "id": "130e7a09",
   "metadata": {},
   "outputs": [],
   "source": [
    "def cadena_correcta(n: int) -> str:\n",
    "    \"\"\"Genera una cadena de parentesis correcta\n",
    "\n",
    "    Args:\n",
    "        n (int): Tamaño de la cadena\n",
    "\n",
    "    Returns:\n",
    "        str: Cadena correcta\n",
    "    \"\"\"\n",
    "    \n",
    "    cadena = \"\"\n",
    "    contador = 0\n",
    "    for i in range(n):\n",
    "        if n -i <= contador:\n",
    "            cadena += ')'\n",
    "            contador += -1\n",
    "        else:\n",
    "            if contador<0 :\n",
    "                cadena += '('\n",
    "                contador += 1\n",
    "            else:\n",
    "                cadena += \"(\" if random.random() < 0.5 else \")\"\n",
    "                contador += (1 if cadena[-1]=='(' else -1)\n",
    "\n",
    "    return cadena"
   ]
  },
  {
   "cell_type": "code",
   "execution_count": 37,
   "id": "3c577b56",
   "metadata": {},
   "outputs": [
    {
     "name": "stdout",
     "output_type": "stream",
     "text": [
      "2000\n",
      ")()((()((((()((()(((())()()())(()())(()()())()()(())()(()))()())())())))))(())()()()(((())((()(()(()()(())((()((()(())(()())())()((((()()(((()()())((()((())))())()))()()(()()(()(()())()()())())()))()()()(()()(()()())())()(()(()(((()(())()))())))))())((()))))((()((()))))))(())(()))))())(((()((()((()()((()(()()(()()))()(()(((((()))()))(((((((())((((((()()()(()())))))(()()(((())()(()))()))(())))))())()((())()()())()()(())))())()((((()()(()())(())))((()()()))())()())()()(())())((())(()(()(())()()))(()((()(()))()(()((((())))(((((((()()(()()()((()))()(((()()((()(()()())((())()(((())()((()()(())())))()((()())((()(((())((())(()))(()(()(())())(())()))))(()(()())))())))))))((())())())())(()()(((()())(())(())(()()))())))(()))((()((()()(()(()())()(()()())(()(())(())(()((())))))(((())))()())()))(((())())()())(((()))))((((((()()()))))(((()()()()()))(()((())())(((()()((((())(()()(((())(())()))))))(()()()()((())(())())))))))(()()()))))())(()()(()())))(()(()())))()())()()())))()())(()))()))(((()(()))((()())))()))))))())))(()))((((()))()((()(((()))(())(()((()()(()((())))()))))()(())(((())()()())()()()(((())(()()(()((())))())()(()(())))))(())()))))(()())(())()(()())(((()((()((())))()((((())()(()()())(())(()()((((((()(()()((()))(())))())()))()(()()))()((()))(()(((((())()()(((()))))()()()))))(()))()(()(()())))()((()())))))(((()()))()))()()(((()()()(((())())))())()((())(()())(()))()(())))(()()()(()()((())()())))()())()())((()()))(((()()))(((()()()))))(()())()((((((()(()()))))(((())))((()((()(()))()))()))(())()()((((()())()())()))()((()))(())(())((()((())()(())())(()(()()())))))())(()()(()))()(()())((()))()()()(()()(()()())(()()))()()(())(((())(())())(()()(())))()()()()(()((())))()((())()(((())(()()))(()))())(((((()(()(())((()))()))(()))())()()(((()()()((((()((()((()))(()(())()(()()((()(()())(())(()(()(()))(())(()()(()))())()(())())()(()()()((())()))))))(()())()(()))((((())()())))))(((((()(()((())((((()(((()(())()))(())())(())(())(())()))()()((((()()))(((()())())()))))((()))))))))))))))))\n",
      "SI\n"
     ]
    }
   ],
   "source": [
    "n = 2000\n",
    "cadena = cadena_correcta(n)\n",
    "\n",
    "entrada_total = f\"{n}\\n{cadena}\"\n",
    "\n",
    "# Ejecutar el proceso y obtener la salida\n",
    "proceso = subprocess.Popen([\"./executable\"], stdin=subprocess.PIPE, stdout=subprocess.PIPE, stderr=subprocess.PIPE, text=True)\n",
    "salida, errores = proceso.communicate(input=entrada_total)\n",
    "\n",
    "print(entrada_total)\n",
    "print(salida)\n",
    "\n",
    "# Verificar si hubo errores durante la ejecución\n",
    "if proceso.returncode != 0:\n",
    "    print(\"Error durante la ejecución:\")\n",
    "    print(errores)"
   ]
  },
  {
   "cell_type": "code",
   "execution_count": 38,
   "id": "89513538",
   "metadata": {},
   "outputs": [],
   "source": [
    "def cadena_incorrecta(n: int) -> str:\n",
    "    \"\"\"Genera una cadena de parentesis incorrecta\n",
    "\n",
    "    Args:\n",
    "        n (int): Tamaño de la cadena\n",
    "\n",
    "    Returns:\n",
    "        str: Cadena incorrecta\n",
    "    \"\"\"\n",
    "    \n",
    "    cadena = \"\"\n",
    "    contador = 0\n",
    "    bad = False\n",
    "    \n",
    "    for i in range(n-1):\n",
    "        num = random.random()\n",
    "        if num > 0.5:\n",
    "            contador += 1\n",
    "            cadena += '('\n",
    "        else:\n",
    "            contador -= 1\n",
    "            cadena += ')'\n",
    "            if contador < -1: bad = True\n",
    "    \n",
    "    if bad:\n",
    "        cadena += '(' if random.random() >0.5 else ')'\n",
    "    elif contador != -1:\n",
    "        cadena += '('\n",
    "    else:\n",
    "        cadena += ')'\n",
    "        \n",
    "    return cadena"
   ]
  },
  {
   "cell_type": "code",
   "execution_count": 63,
   "id": "cad1ee2a",
   "metadata": {},
   "outputs": [
    {
     "name": "stdout",
     "output_type": "stream",
     "text": [
      "4\n",
      "()((\n",
      "NO\n"
     ]
    }
   ],
   "source": [
    "n = 4\n",
    "cadena = cadena_incorrecta(n)\n",
    "\n",
    "entrada_total = f\"{n}\\n{cadena}\"\n",
    "\n",
    "# Ejecutar el proceso y obtener la salida\n",
    "proceso = subprocess.Popen([\"./executable\"], stdin=subprocess.PIPE, stdout=subprocess.PIPE, stderr=subprocess.PIPE, text=True)\n",
    "salida, errores = proceso.communicate(input=entrada_total)\n",
    "\n",
    "print(entrada_total)\n",
    "print(salida)\n",
    "\n",
    "# Verificar si hubo errores durante la ejecución\n",
    "if proceso.returncode != 0:\n",
    "    print(\"Error durante la ejecución:\")\n",
    "    print(errores)"
   ]
  },
  {
   "cell_type": "code",
   "execution_count": 65,
   "id": "a2a0e845",
   "metadata": {},
   "outputs": [],
   "source": [
    "def cadena_nivelada(n: int) -> str:\n",
    "    \"\"\"Generador de una cadena de parentesis donde se tiene la misma \n",
    "    probabilidad de que sea una secuencia correcta como de que sea \n",
    "    una secuencia incorrecta.\n",
    "\n",
    "    Args:\n",
    "        n (int): Tamaño de la cadena\n",
    "\n",
    "    Returns:\n",
    "        str: cadena de parentesis\n",
    "    \"\"\"\n",
    "    if random.random() > 0.5:\n",
    "        cadena = cadena_correcta(n)\n",
    "    else:\n",
    "        cadena = cadena_incorrecta(n)\n",
    "    \n",
    "    return cadena"
   ]
  },
  {
   "cell_type": "code",
   "execution_count": 71,
   "id": "118ad4c5",
   "metadata": {},
   "outputs": [],
   "source": [
    "# Número de ejecuciones deseadas\n",
    "for i in range(100):\n",
    "    # Generar un número aleatorio entre 1 y 100\n",
    "    numero_aleatorio = random.randint(1, 2000)\n",
    "\n",
    "    # Generar la cadena aleatoria con los dos caracteres\n",
    "    cadena_aleatoria = cadena_nivelada(numero_aleatorio)\n",
    "\n",
    "    # Crear la entrada total como una cadena formateada\n",
    "    entrada_total = f\"{numero_aleatorio}\\n{cadena_aleatoria}\"\n",
    "    \n",
    "    test_case = '0' if i<10 else ''\n",
    "    test_case += str(i)\n",
    "    \n",
    "    # Escribir la entrada en un archivo\n",
    "    with open(f\"./test_cases/input/input{test_case}.txt\", \"w\") as f_input:\n",
    "        f_input.write(entrada_total)\n",
    "\n",
    "    # Ejecutar el proceso y obtener la salida\n",
    "    proceso = subprocess.Popen([\"./executable\"], stdin=subprocess.PIPE, stdout=subprocess.PIPE, stderr=subprocess.PIPE, text=True)\n",
    "    salida, errores = proceso.communicate(input=entrada_total)\n",
    "\n",
    "    # Escribir la salida en un archivo\n",
    "    with open(f\"./test_cases/output/output{test_case}.txt\", \"w\") as f_output:\n",
    "        f_output.write(salida)\n",
    "\n",
    "\n",
    "    # Verificar si hubo errores durante la ejecución\n",
    "    if proceso.returncode != 0:\n",
    "        print(\"Error durante la ejecución:\")\n",
    "        print(errores)"
   ]
  },
  {
   "cell_type": "code",
   "execution_count": null,
   "id": "227a010e",
   "metadata": {},
   "outputs": [],
   "source": []
  }
 ],
 "metadata": {
  "kernelspec": {
   "display_name": "Python 3 (ipykernel)",
   "language": "python",
   "name": "python3"
  },
  "language_info": {
   "codemirror_mode": {
    "name": "ipython",
    "version": 3
   },
   "file_extension": ".py",
   "mimetype": "text/x-python",
   "name": "python",
   "nbconvert_exporter": "python",
   "pygments_lexer": "ipython3",
   "version": "3.11.6"
  }
 },
 "nbformat": 4,
 "nbformat_minor": 5
}
