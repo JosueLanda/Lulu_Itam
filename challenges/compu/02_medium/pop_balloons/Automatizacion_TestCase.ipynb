{
 "cells": [
  {
   "cell_type": "markdown",
   "id": "74614fbf-4cc9-4c71-bd44-04f1e31b21a4",
   "metadata": {},
   "source": [
    "# Automatización"
   ]
  },
  {
   "cell_type": "markdown",
   "id": "5afea018-d5d1-467f-8c0e-6f66c2a40655",
   "metadata": {},
   "source": [
    "# Compilación"
   ]
  },
  {
   "cell_type": "code",
   "execution_count": 1,
   "id": "665a3f58-640d-4959-9206-9972c6767958",
   "metadata": {},
   "outputs": [
    {
     "name": "stdout",
     "output_type": "stream",
     "text": [
      "Compilación exitosa\n"
     ]
    }
   ],
   "source": [
    "import subprocess\n",
    "from subprocess import Popen, PIPE\n",
    "import random\n",
    "\n",
    "resultado = subprocess.run([\"g++\", \"./pop_balloon.cpp\", \"-o\", \"executable\"], capture_output=True, text=True)\n",
    "\n",
    "if resultado.returncode == 0:\n",
    "    print(\"Compilación exitosa\")\n",
    "else:\n",
    "    print(\"Error de compilación:\")\n",
    "    print(resultado.stderr)    "
   ]
  },
  {
   "cell_type": "code",
   "execution_count": 2,
   "id": "8d1e4f7a",
   "metadata": {},
   "outputs": [
    {
     "name": "stdout",
     "output_type": "stream",
     "text": [
      "65\n",
      "10 6 5 10 4 5 7 7 3 5 3 8 2 4 6 10 8 10 5 5 10 6 5 10 8 1 1 2 4 6 8 6 4 7 8 6 3 1 10 10 6 5 7 4 3 5 6 10 3 4 6 1 3 10 2 7 10 7 10 3 4 2 2 10 9\n",
      "31\n",
      "\n",
      "20\n",
      "6 10 6 7 6 8 1 3 8 6 3 4 7 10 3 4 9 8 7 1\n",
      "14\n",
      "\n",
      "48\n",
      "6 7 6 5 6 5 5 10 2 9 8 4 8 3 5 10 4 7 4 10 2 1 1 7 1 8 2 1 6 1 1 1 1 10 7 2 2 4 4 1 1 4 1 10 5 9 6 3\n",
      "23\n",
      "\n",
      "76\n",
      "3 9 10 10 8 10 7 7 8 7 1 8 7 5 5 3 6 2 2 7 8 2 4 6 2 5 6 7 6 6 8 9 8 8 9 2 8 9 5 7 2 10 7 2 1 6 9 8 8 10 1 3 5 10 2 4 5 10 6 2 2 9 4 6 10 3 8 3 2 3 9 3 8 6 9 4\n",
      "31\n",
      "\n",
      "2\n",
      "7 6\n",
      "1\n",
      "\n"
     ]
    }
   ],
   "source": [
    "\n",
    "for _ in range(5):\n",
    "    # Crear el objeto Popen para ejecutar el ejecutable\n",
    "    proceso = subprocess.Popen(\"./executable\", stdin=subprocess.PIPE, stdout=subprocess.PIPE, stderr=subprocess.PIPE, text=True)\n",
    "\n",
    "    max_n = 100\n",
    "    max_h = 10\n",
    "    # Pasar las dos entradas al proceso\n",
    "    # Generar un número aleatorio entre 1 y 100\n",
    "    n = random.randint(1, max_n)\n",
    "\n",
    "\n",
    "    # Alturas\n",
    "    alturas = [ random.randint(1,max_h) for _ in range(n)]\n",
    "\n",
    "    Hi = ' '.join(str(x) for x in alturas)\n",
    "    entrada_total = str(n)+'\\n'+Hi\n",
    "    salida, errores = proceso.communicate(input=entrada_total)\n",
    "\n",
    "    # Imprimir la salida del ejecutable\n",
    "    print(entrada_total)\n",
    "    print(salida)\n",
    "\n",
    "    # Verificar si hubo errores durante la ejecución\n",
    "    if proceso.returncode != 0:\n",
    "        print(\"Error durante la ejecución:\")\n",
    "        print(errores)\n"
   ]
  },
  {
   "cell_type": "markdown",
   "id": "b8fadcb5",
   "metadata": {},
   "source": [
    "Generador de .txt para subir al hacker rank"
   ]
  },
  {
   "cell_type": "code",
   "execution_count": 4,
   "id": "f4da0011",
   "metadata": {},
   "outputs": [],
   "source": [
    "# Número de ejecuciones deseadas\n",
    "for i in range(100):\n",
    "\n",
    "    max_n = 2_000\n",
    "    max_h = 1_000\n",
    "    # Pasar las dos entradas al proceso\n",
    "    # Generar un número aleatorio entre 1 y 100\n",
    "    n = random.randint(1, max_n)\n",
    "\n",
    "\n",
    "    # Alturas\n",
    "    alturas = [ random.randint(1,max_h) for _ in range(n)]\n",
    "\n",
    "    Hi = ' '.join(str(x) for x in alturas)\n",
    "    entrada_total = str(n)+'\\n'+Hi\n",
    "\n",
    "    test_case = '0' if i<10 else ''\n",
    "    test_case += str(i)\n",
    "    # Escribir la entrada en un archivo\n",
    "    with open(f\"./test_cases/input/input{test_case}.txt\", \"w\") as f_input:\n",
    "        f_input.write(entrada_total)\n",
    "\n",
    "    # Ejecutar el proceso y obtener la salida\n",
    "    proceso = subprocess.Popen([\"./executable\"], stdin=subprocess.PIPE, stdout=subprocess.PIPE, stderr=subprocess.PIPE, text=True)\n",
    "    salida, errores = proceso.communicate(input=entrada_total)\n",
    "\n",
    "    # Escribir la salida en un archivo\n",
    "    with open(f\"./test_cases/output/output{test_case}.txt\", \"w\") as f_output:\n",
    "        f_output.write(salida)\n",
    "\n",
    "\n",
    "    # Verificar si hubo errores durante la ejecución\n",
    "    if proceso.returncode != 0:\n",
    "        print(\"Error durante la ejecución:\")\n",
    "        print(errores)\n"
   ]
  },
  {
   "cell_type": "code",
   "execution_count": null,
   "id": "1023b957",
   "metadata": {},
   "outputs": [],
   "source": []
  }
 ],
 "metadata": {
  "kernelspec": {
   "display_name": "Python 3 (ipykernel)",
   "language": "python",
   "name": "python3"
  },
  "language_info": {
   "codemirror_mode": {
    "name": "ipython",
    "version": 3
   },
   "file_extension": ".py",
   "mimetype": "text/x-python",
   "name": "python",
   "nbconvert_exporter": "python",
   "pygments_lexer": "ipython3",
   "version": "3.11.6"
  }
 },
 "nbformat": 4,
 "nbformat_minor": 5
}
