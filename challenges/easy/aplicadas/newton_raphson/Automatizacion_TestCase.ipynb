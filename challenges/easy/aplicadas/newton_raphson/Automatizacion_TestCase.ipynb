{
 "cells": [
  {
   "cell_type": "markdown",
   "id": "74614fbf-4cc9-4c71-bd44-04f1e31b21a4",
   "metadata": {},
   "source": [
    "# Automatizacion"
   ]
  },
  {
   "cell_type": "markdown",
   "id": "5afea018-d5d1-467f-8c0e-6f66c2a40655",
   "metadata": {},
   "source": [
    "# Compilacion"
   ]
  },
  {
   "cell_type": "code",
   "execution_count": 3,
   "id": "283841c6-d20e-4efa-a4c2-6383493baebc",
   "metadata": {},
   "outputs": [
    {
     "name": "stdout",
     "output_type": "stream",
     "text": [
      "/home/jovyan\n"
     ]
    }
   ],
   "source": [
    "cd"
   ]
  },
  {
   "cell_type": "code",
   "execution_count": 7,
   "id": "665a3f58-640d-4959-9206-9972c6767958",
   "metadata": {},
   "outputs": [
    {
     "data": {
      "text/plain": [
       "CompletedProcess(args=['gcc', 'work/easy/aplicadas/newton_raphson/newton_raphson.c', '-lm', '-o', 'executable'], returncode=0)"
      ]
     },
     "execution_count": 7,
     "metadata": {},
     "output_type": "execute_result"
    }
   ],
   "source": [
    "import subprocess\n",
    "from subprocess import Popen, PIPE\n",
    "\n",
    "subprocess.run([\"gcc\", \"work/easy/aplicadas/newton_raphson/newton_raphson.c\", \"-lm\",\"-o\", \"executable\"])"
   ]
  },
  {
   "cell_type": "code",
   "execution_count": 50,
   "id": "a62fad05-c916-4870-9ce9-6c19da8ded8f",
   "metadata": {},
   "outputs": [
    {
     "name": "stdout",
     "output_type": "stream",
     "text": [
      "-5 0.0001\n",
      "-2.2361\n",
      "\n",
      "\n",
      "-4 0.0001\n",
      "-2.2361\n",
      "\n",
      "\n",
      "-3 0.0001\n",
      "-2.2361\n",
      "\n",
      "\n",
      "-2 0.0001\n",
      "-2.2361\n",
      "\n",
      "\n",
      "-1 0.0001\n",
      "-2.2361\n",
      "\n",
      "\n",
      "0 0.0001\n",
      "-nan\n",
      "\n",
      "\n",
      "1 0.0001\n",
      "2.2361\n",
      "\n",
      "\n",
      "2 0.0001\n",
      "2.2361\n",
      "\n",
      "\n",
      "3 0.0001\n",
      "2.2361\n",
      "\n",
      "\n",
      "4 0.0001\n",
      "2.2361\n",
      "\n",
      "\n"
     ]
    }
   ],
   "source": [
    "for i in range(-5,5):\n",
    "\n",
    "    exe = (\"./executable\")\n",
    "    with Popen(exe, shell=True, stdin=PIPE,stdout=PIPE) as proc:\n",
    "        \n",
    "        output, _ = proc.communicate(bytes(f'{i} 0.0001',encoding='utf-8'))\n",
    "        print(i,0.0001)\n",
    "        print(str(output).replace(\"b\",\"\").replace(\"'\",\"\"))\n",
    "        print(\"\\n\")\n",
    "                \n"
   ]
  },
  {
   "cell_type": "code",
   "execution_count": null,
   "id": "4f075e00-2568-4483-8c29-22874c3bea96",
   "metadata": {},
   "outputs": [],
   "source": []
  }
 ],
 "metadata": {
  "kernelspec": {
   "display_name": "Python 3 (ipykernel)",
   "language": "python",
   "name": "python3"
  },
  "language_info": {
   "codemirror_mode": {
    "name": "ipython",
    "version": 3
   },
   "file_extension": ".py",
   "mimetype": "text/x-python",
   "name": "python",
   "nbconvert_exporter": "python",
   "pygments_lexer": "ipython3",
   "version": "3.11.5"
  }
 },
 "nbformat": 4,
 "nbformat_minor": 5
}
